{
 "cells": [
  {
   "cell_type": "code",
   "execution_count": 1,
   "metadata": {
    "collapsed": false
   },
   "outputs": [],
   "source": [
    "\"\"\"\n",
    "Read image and label data from hdf5 file\n",
    "\"\"\"\n",
    "import os\n",
    "import numpy as np\n",
    "from PIL import Image\n",
    "import h5py\n",
    "import matplotlib.pyplot as plt\n",
    "#%matplotlib inline\n",
    "def readhdf5(hdf5file):\n",
    "    with h5py.File(hdf5file,'r') as hf:\n",
    "        print \"List of items in the base directory\",hf.items()\n",
    "        Tag = np.array(hf.get('Tag'))\n",
    "        data = np.array(hf.get('data'))\n",
    "#         for i in range(data.shape[0]):\n",
    "#             print Tag[i]\n",
    "#             #plt.subplot(501, 1, i+1)\n",
    "#             plt.figure(i)\n",
    "#             plt.imshow(data[i])\n",
    "#             plt.show()\n",
    "#             #plt.axis('off')         \n",
    "    return data,Tag\n",
    "        \n",
    "    "
   ]
  },
  {
   "cell_type": "code",
   "execution_count": 2,
   "metadata": {
    "collapsed": false
   },
   "outputs": [],
   "source": [
    "\"\"\"\n",
    "Transform data for image and label to HDF5\n",
    "\"\"\"\n",
    "import os\n",
    "import numpy as np\n",
    "\n",
    "import h5py\n",
    "import matplotlib.pyplot as plt\n",
    "\n",
    "# Generate HDF5 train.h5\n",
    "def generate_hdf5(OriginalPath,hdf5Path,category):\n",
    "    \n",
    "    IMAGE_WIDTH = 256\n",
    "    IMAGE_HEIGHT = 256\n",
    "    IMAGE_CHANNEL = 3\n",
    "    \n",
    "    # 标签的类别,大小维1×21\n",
    "    labels = np.zeros((1050,21))\n",
    "    \n",
    "    # 图片的大小为256×256，3通道\n",
    "    datas = np.zeros((1050,IMAGE_HEIGHT,IMAGE_WIDTH,IMAGE_CHANNEL))\n",
    "    num = 0\n",
    "    for i,cate in enumerate(category):\n",
    "        # hdf5文件要求数据是float或者double格式的\n",
    "        data,tag = readhdf5(OriginalPath+cate+\"/hdf5.h5\")\n",
    "        idx = np.where(tag>0)\n",
    "        tag[idx[0],idx[1]] = 1\n",
    "        length = len(data)\n",
    "        tag[0:50,i] = 1\n",
    "        \n",
    "        assert (len(data)==len(tag)),\"data length not equal to tag length\"\n",
    "        datas[num:num+50,:,:,:] = data[0:50,:,:,:]\n",
    "        labels[num:num+50,:] = tag[0:50,:]\n",
    "        num += 50\n",
    "    \n",
    "    print num\n",
    "    # 写入hdf5文件\n",
    "    if not os.path.isdir(hdf5Path):\n",
    "        os.mkdir(hdf5Path)\n",
    "        \n",
    "    with h5py.File(hdf5Path+'/hdf5.h5','w') as f:\n",
    "        f['data'] = datas\n",
    "        f['Tag'] = labels\n",
    "        f.close()\n"
   ]
  },
  {
   "cell_type": "code",
   "execution_count": 3,
   "metadata": {
    "collapsed": false
   },
   "outputs": [
    {
     "name": "stdout",
     "output_type": "stream",
     "text": [
      "List of items in the base directory [(u'Tag', <HDF5 dataset \"Tag\": shape (51, 21), type \"<f8\">), (u'data', <HDF5 dataset \"data\": shape (51, 256, 256, 3), type \"<f8\">)]\n",
      "List of items in the base directory [(u'Tag', <HDF5 dataset \"Tag\": shape (51, 21), type \"<f8\">), (u'data', <HDF5 dataset \"data\": shape (51, 256, 256, 3), type \"<f8\">)]\n",
      "List of items in the base directory [(u'Tag', <HDF5 dataset \"Tag\": shape (51, 21), type \"<f8\">), (u'data', <HDF5 dataset \"data\": shape (51, 256, 256, 3), type \"<f8\">)]\n",
      "List of items in the base directory [(u'Tag', <HDF5 dataset \"Tag\": shape (51, 21), type \"<f8\">), (u'data', <HDF5 dataset \"data\": shape (51, 256, 256, 3), type \"<f8\">)]\n",
      "List of items in the base directory [(u'Tag', <HDF5 dataset \"Tag\": shape (51, 21), type \"<f8\">), (u'data', <HDF5 dataset \"data\": shape (51, 256, 256, 3), type \"<f8\">)]\n",
      "List of items in the base directory [(u'Tag', <HDF5 dataset \"Tag\": shape (51, 21), type \"<f8\">), (u'data', <HDF5 dataset \"data\": shape (51, 256, 256, 3), type \"<f8\">)]\n",
      "List of items in the base directory [(u'Tag', <HDF5 dataset \"Tag\": shape (51, 21), type \"<f8\">), (u'data', <HDF5 dataset \"data\": shape (51, 256, 256, 3), type \"<f8\">)]\n",
      "List of items in the base directory [(u'Tag', <HDF5 dataset \"Tag\": shape (51, 21), type \"<f8\">), (u'data', <HDF5 dataset \"data\": shape (51, 256, 256, 3), type \"<f8\">)]\n",
      "List of items in the base directory [(u'Tag', <HDF5 dataset \"Tag\": shape (51, 21), type \"<f8\">), (u'data', <HDF5 dataset \"data\": shape (51, 256, 256, 3), type \"<f8\">)]\n",
      "List of items in the base directory [(u'Tag', <HDF5 dataset \"Tag\": shape (50, 21), type \"<f8\">), (u'data', <HDF5 dataset \"data\": shape (50, 256, 256, 3), type \"<f8\">)]\n",
      "List of items in the base directory [(u'Tag', <HDF5 dataset \"Tag\": shape (51, 21), type \"<f8\">), (u'data', <HDF5 dataset \"data\": shape (51, 256, 256, 3), type \"<f8\">)]\n",
      "List of items in the base directory [(u'Tag', <HDF5 dataset \"Tag\": shape (51, 21), type \"<f8\">), (u'data', <HDF5 dataset \"data\": shape (51, 256, 256, 3), type \"<f8\">)]\n",
      "List of items in the base directory [(u'Tag', <HDF5 dataset \"Tag\": shape (51, 21), type \"<f8\">), (u'data', <HDF5 dataset \"data\": shape (51, 256, 256, 3), type \"<f8\">)]\n",
      "List of items in the base directory [(u'Tag', <HDF5 dataset \"Tag\": shape (51, 21), type \"<f8\">), (u'data', <HDF5 dataset \"data\": shape (51, 256, 256, 3), type \"<f8\">)]\n",
      "List of items in the base directory [(u'Tag', <HDF5 dataset \"Tag\": shape (51, 21), type \"<f8\">), (u'data', <HDF5 dataset \"data\": shape (51, 256, 256, 3), type \"<f8\">)]\n",
      "List of items in the base directory [(u'Tag', <HDF5 dataset \"Tag\": shape (51, 21), type \"<f8\">), (u'data', <HDF5 dataset \"data\": shape (51, 256, 256, 3), type \"<f8\">)]\n",
      "List of items in the base directory [(u'Tag', <HDF5 dataset \"Tag\": shape (51, 21), type \"<f8\">), (u'data', <HDF5 dataset \"data\": shape (51, 256, 256, 3), type \"<f8\">)]\n",
      "List of items in the base directory [(u'Tag', <HDF5 dataset \"Tag\": shape (51, 21), type \"<f8\">), (u'data', <HDF5 dataset \"data\": shape (51, 256, 256, 3), type \"<f8\">)]\n",
      "List of items in the base directory [(u'Tag', <HDF5 dataset \"Tag\": shape (51, 21), type \"<f8\">), (u'data', <HDF5 dataset \"data\": shape (51, 256, 256, 3), type \"<f8\">)]\n",
      "List of items in the base directory [(u'Tag', <HDF5 dataset \"Tag\": shape (51, 21), type \"<f8\">), (u'data', <HDF5 dataset \"data\": shape (51, 256, 256, 3), type \"<f8\">)]\n",
      "List of items in the base directory [(u'Tag', <HDF5 dataset \"Tag\": shape (51, 21), type \"<f8\">), (u'data', <HDF5 dataset \"data\": shape (51, 256, 256, 3), type \"<f8\">)]\n",
      "1050\n"
     ]
    }
   ],
   "source": [
    "originalpath = r\"/home/minfeng/hdf5/Validation/\"\n",
    "save = r\"/home/minfeng/hdf5/Validation\"\n",
    "category = [\"building\",\"clouds\",\"flowers\",\"grass\",\"lake\",\"person\",\"plants\",\"sky\",\"water\",\"window\",\"beach\",\"birds\",\"boats\", \n",
    "            \"military\",\"mountain\",\"tree\",\"reflection\",\"road\",\"rocks\",\"sunset\",\"vehicle\"]\n",
    "generate_hdf5(originalpath,save,category)"
   ]
  }
 ],
 "metadata": {
  "kernelspec": {
   "display_name": "Python 2",
   "language": "python",
   "name": "python2"
  },
  "language_info": {
   "codemirror_mode": {
    "name": "ipython",
    "version": 2
   },
   "file_extension": ".py",
   "mimetype": "text/x-python",
   "name": "python",
   "nbconvert_exporter": "python",
   "pygments_lexer": "ipython2",
   "version": "2.7.11"
  }
 },
 "nbformat": 4,
 "nbformat_minor": 0
}
