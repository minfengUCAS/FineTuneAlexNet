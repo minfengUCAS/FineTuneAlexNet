{
 "cells": [
  {
   "cell_type": "code",
   "execution_count": 1,
   "metadata": {
    "collapsed": false
   },
   "outputs": [],
   "source": [
    "\"\"\"\n",
    "Transform data for image and label to HDF5\n",
    "\"\"\"\n",
    "import os\n",
    "import numpy as np\n",
    "from PIL import Image\n",
    "import h5py\n",
    "import matplotlib.pyplot as plt\n",
    "\n",
    "# Generate HDF5 train.h5\n",
    "def generate_hdf5(ImagePath,TagFile,hdf5Path,category):\n",
    "    f  = open(TagFile,'r')\n",
    "    tag = []\n",
    "    for line in f.readlines():\n",
    "        tag.append(line)\n",
    "    f.close()\n",
    "    \n",
    "    IMAGE_WIDTH = 256\n",
    "    IMAGE_HEIGHT = 256\n",
    "    IMAGE_CHANNEL = 3\n",
    "    \n",
    "    # 读取文件的存入file_list\n",
    "    file_list = os.listdir(ImagePath)\n",
    "    \n",
    "    # 标签的类别,大小维1×21\n",
    "    labels = np.zeros((len(file_list),21))\n",
    "    \n",
    "    # 图片的大小为256×256，3通道\n",
    "    datas = np.zeros((len(file_list),IMAGE_HEIGHT,IMAGE_WIDTH,IMAGE_CHANNEL))\n",
    "    num = 0\n",
    "    for index,_file in enumerate(file_list):\n",
    "        # hdf5文件要求数据是float或者double格式的\n",
    "        if _file == \"Tag.txt\":\n",
    "            continue\n",
    "        filePath = os.path.join(ImagePath,_file)\n",
    "        img = Image.open(filePath)\n",
    "#         plt.figure(\"1\")\n",
    "#         plt.imshow(img)\n",
    "#         plt.show()\n",
    "\n",
    "        img = img.resize((IMAGE_HEIGHT, IMAGE_WIDTH), Image.ANTIALIAS)\n",
    "        \n",
    "#         plt.figure(\"dog\")\n",
    "#         plt.imshow(img)\n",
    "#         plt.show()\n",
    "        data = np.array(img).astype(np.float32)/256\n",
    "#         for i in range(IMAGE_CHANNEL):\n",
    "#             data[:,:,i] -= np.mean(data[:,:,i])\n",
    "        data -= np.mean(data)\n",
    "        \n",
    "#         plt.figure(\"dog\")\n",
    "#         plt.imshow(data)\n",
    "#         plt.show()\n",
    "        \n",
    "        datas[index,:,:,:] = data\n",
    "        \n",
    "        num += 1\n",
    "        for line in tag:\n",
    "            wordList = line.split(' ')\n",
    "            \n",
    "            wordList[-1] = wordList[-1][:-2]\n",
    "            \n",
    "            name = _file[5:-4]\n",
    "            \n",
    "            for i,_tag in enumerate(category):\n",
    "                if name == wordList[0] and _tag in wordList:\n",
    "                    labels[index,i] = labels[index,i]+1\n",
    "    \n",
    "    print num\n",
    "    # 写入hdf5文件\n",
    "    if not os.path.isdir(hdf5Path):\n",
    "        os.mkdir(hdf5Path)\n",
    "        \n",
    "    with h5py.File(hdf5Path+'/hdf5.h5','w') as f:\n",
    "        f['data'] = datas\n",
    "        f['Tag'] = labels\n",
    "        f.close()\n",
    "\n"
   ]
  },
  {
   "cell_type": "code",
   "execution_count": 3,
   "metadata": {
    "collapsed": false
   },
   "outputs": [
    {
     "name": "stdout",
     "output_type": "stream",
     "text": [
      "50\n",
      "50\n",
      "50\n",
      "50\n",
      "50\n",
      "50\n",
      "50\n",
      "50\n",
      "50\n",
      "49\n",
      "50\n",
      "50\n",
      "50\n",
      "50\n",
      "50\n",
      "50\n",
      "50\n",
      "50\n",
      "50\n",
      "50\n",
      "50\n"
     ]
    }
   ],
   "source": [
    "import numpy as np\n",
    "# use 21 categories to train our fine tune model\n",
    "category = [\"building\",\"clouds\",\"flowers\",\"grass\",\"lake\",\"person\",\"plants\",\"sky\",\"water\",\"window\",\"beach\",\"birds\",\"boats\", \n",
    "            \"military\",\"mountain\",\"tree\",\"reflection\",\"road\",\"rocks\",\"sunset\",\"vehicle\"]\n",
    "sourcePath = r\"/home/minfeng/selectData/Validation/\"\n",
    "destPath = r\"/home/minfeng/hdf5/Validation/\"\n",
    "for cate in category:\n",
    "    generate_hdf5(sourcePath+cate,sourcePath+cate+\"/Tag.txt\",destPath+cate,category)"
   ]
  }
 ],
 "metadata": {
  "kernelspec": {
   "display_name": "Python 2",
   "language": "python",
   "name": "python2"
  },
  "language_info": {
   "codemirror_mode": {
    "name": "ipython",
    "version": 2
   },
   "file_extension": ".py",
   "mimetype": "text/x-python",
   "name": "python",
   "nbconvert_exporter": "python",
   "pygments_lexer": "ipython2",
   "version": "2.7.11"
  }
 },
 "nbformat": 4,
 "nbformat_minor": 0
}
