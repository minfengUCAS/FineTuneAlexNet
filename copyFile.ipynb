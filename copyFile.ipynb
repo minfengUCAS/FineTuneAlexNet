{
 "cells": [
  {
   "cell_type": "code",
   "execution_count": 26,
   "metadata": {
    "collapsed": true
   },
   "outputs": [],
   "source": [
    "import os\n",
    "import path\n",
    "import shutil\n",
    "def copyFile(sourcePath,destPath,TagFile,category):\n",
    "    f = open(TagFile,'r')\n",
    "    \n",
    "    sourcefiles = os.listdir(sourcePath)\n",
    "    sourcefiles.sort()\n",
    "    \n",
    "    time = 0\n",
    "    total = 0\n",
    "    \n",
    "    for sourcefile in sourcefiles:\n",
    "        parentPath = os.path.join(sourcePath,sourcefile)\n",
    "        \n",
    "        childfiles = os.listdir(parentPath)\n",
    "        childfiles.sort()\n",
    "        childnum = len(childfiles)\n",
    "        \n",
    "        tags = []\n",
    "        for i in range(childnum):\n",
    "            tags.append(f.readline())\n",
    "        \n",
    "        for childfile in childfiles:\n",
    "            for words in tags:\n",
    "                wordList = words.split(' ')\n",
    "                wordList[-1] = wordList[-1][:-2]\n",
    "\n",
    "                name = childfile[5:-4]\n",
    "                if wordList[0] != name:\n",
    "                    continue\n",
    "                    \n",
    "                source = os.path.join(parentPath,childfile)\n",
    "\n",
    "                total = total+1\n",
    "\n",
    "\n",
    "                for word in category:\n",
    "                    if  word in wordList:\n",
    "                        child_destPath = os.path.join(destPath,word)\n",
    "                        if not os.path.isdir(child_destPath):\n",
    "                            os.mkdir(child_destPath)\n",
    "                        tag_file = os.path.join(child_destPath,\"Tag.txt\")\n",
    "                        destTag = open(tag_file,'a')\n",
    "                        destTag.write(words)\n",
    "                        destTag.close()\n",
    "                        shutil.copy(source,child_destPath)\n",
    "                        time = time+1\n",
    "                        break\n",
    "    f.close()\n",
    "    print time\n",
    "    print total"
   ]
  },
  {
   "cell_type": "code",
   "execution_count": 28,
   "metadata": {
    "collapsed": false
   },
   "outputs": [
    {
     "name": "stdout",
     "output_type": "stream",
     "text": [
      "27191\n",
      "244568\n"
     ]
    }
   ],
   "source": [
    "sourcePath = \"/home/minfeng/Ficker/Flickr\"\n",
    "destPath = \"/home/minfeng/MyData\"\n",
    "TagFile = \"/home/minfeng/Ficker/NUS/All_Tags.txt\"\n",
    "#category = [\"animal\",\"building\",\"clouds\",\"flowers\",\"grass\",\"lake\",\"occean\",\"person\",\"plants\",\"sky\",\"water\",\"window\",\"beach\",\"birds\",\"boats\",\"house\",\n",
    "            #\"graden\",\"military\",\"mountain\",\"nighttime\",\"reflection\",\"road\"]\n",
    "category = [\"cat\",\"dog\",\"garden\",\"rocks\",\"sunset\",\"tree\",\"valley\",\"vehicle\"]\n",
    "copyFile(sourcePath,destPath,TagFile,category)"
   ]
  }
 ],
 "metadata": {
  "kernelspec": {
   "display_name": "Python 2",
   "language": "python",
   "name": "python2"
  },
  "language_info": {
   "codemirror_mode": {
    "name": "ipython",
    "version": 2
   },
   "file_extension": ".py",
   "mimetype": "text/x-python",
   "name": "python",
   "nbconvert_exporter": "python",
   "pygments_lexer": "ipython2",
   "version": "2.7.11"
  }
 },
 "nbformat": 4,
 "nbformat_minor": 0
}
