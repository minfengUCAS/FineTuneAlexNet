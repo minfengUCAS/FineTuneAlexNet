{
 "cells": [
  {
   "cell_type": "code",
   "execution_count": 24,
   "metadata": {
    "collapsed": true
   },
   "outputs": [],
   "source": [
    "import os\n",
    "import path\n",
    "import shutil\n",
    "import random\n",
    "def selectFile(SourcePath,destPath,num):\n",
    "    sourceFile=os.listdir(SourcePath)\n",
    "    for sourcefile in sourceFile:\n",
    "        time=0\n",
    "        child_sourcePath = os.path.join(SourcePath,sourcefile)\n",
    "        child_sourceFile=os.listdir(child_sourcePath)\n",
    "        child_destPath=os.path.join(destPath,sourcefile)\n",
    "        \n",
    "        if not os.path.isdir(child_destPath):\n",
    "            os.mkdir(child_destPath)\n",
    "        print sourcefile\n",
    "        \n",
    "        file_num=len(child_sourceFile)\n",
    "        \n",
    "        indexList = random.sample(range(0,file_num),num)\n",
    "        \n",
    "        tag_file=os.path.join(child_sourcePath,\"Tag.txt\")\n",
    "        tag = []\n",
    "        f = open(tag_file)\n",
    "        for line in f.readlines():\n",
    "            tag.append(line)\n",
    "        f.close()\n",
    "        \n",
    "        tag_dest=os.path.join(child_destPath,\"Tag.txt\")\n",
    "        f_tag=open(tag_dest,\"a\")\n",
    "        \n",
    "        for index in indexList:\n",
    "            filename=child_sourceFile[index]\n",
    "            source_filename=os.path.join(child_sourcePath,filename)\n",
    "            name = filename[5:-4]\n",
    "            for line in tag:\n",
    "                words = line.split(' ')\n",
    "                if words[0]==name:\n",
    "                    shutil.copy(source_filename,child_destPath)\n",
    "                    f_tag.write(line)    \n",
    "                    time=time+1\n",
    "                    break\n",
    "        print time\n",
    "        f_tag.close()"
   ]
  },
  {
   "cell_type": "code",
   "execution_count": 28,
   "metadata": {
    "collapsed": false
   },
   "outputs": [
    {
     "name": "stdout",
     "output_type": "stream",
     "text": [
      "grass\n",
      "50\n",
      "dog\n",
      "50\n",
      "lake\n",
      "50\n",
      "sky\n",
      "50\n",
      "clouds\n",
      "50\n",
      "boats\n",
      "50\n",
      "reflection\n",
      "50\n",
      "sunset\n",
      "50\n",
      "mountain\n",
      "50\n",
      "rocks\n",
      "50\n",
      "valley\n",
      "50\n",
      "person\n",
      "50\n",
      "cat\n",
      "50\n",
      "window\n",
      "49\n",
      "flowers\n",
      "50\n",
      "road\n",
      "50\n",
      "animal\n",
      "50\n",
      "birds\n",
      "50\n",
      "garden\n",
      "50\n",
      "plants\n",
      "50\n",
      "vehicle\n",
      "50\n",
      "house\n",
      "50\n",
      "military\n",
      "50\n",
      "water\n",
      "50\n",
      "tree\n",
      "50\n",
      "building\n",
      "50\n",
      "beach\n",
      "50\n"
     ]
    }
   ],
   "source": [
    "sourcePath =  r\"/home/minfeng/MyData\"\n",
    "destPath =  r\"/home/minfeng/selectData/Validation\"\n",
    "selectFile(sourcePath,destPath,50)"
   ]
  }
 ],
 "metadata": {
  "kernelspec": {
   "display_name": "Python 2",
   "language": "python",
   "name": "python2"
  },
  "language_info": {
   "codemirror_mode": {
    "name": "ipython",
    "version": 2
   },
   "file_extension": ".py",
   "mimetype": "text/x-python",
   "name": "python",
   "nbconvert_exporter": "python",
   "pygments_lexer": "ipython2",
   "version": "2.7.11"
  }
 },
 "nbformat": 4,
 "nbformat_minor": 0
}
